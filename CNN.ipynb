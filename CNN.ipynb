{
  "nbformat": 4,
  "nbformat_minor": 0,
  "metadata": {
    "colab": {
      "name": "CNN.ipynb",
      "provenance": [],
      "authorship_tag": "ABX9TyPfkV7X47M2Dq2AXmG0mhfC",
      "include_colab_link": true
    },
    "kernelspec": {
      "name": "python3",
      "display_name": "Python 3"
    },
    "language_info": {
      "name": "python"
    }
  },
  "cells": [
    {
      "cell_type": "markdown",
      "metadata": {
        "id": "view-in-github",
        "colab_type": "text"
      },
      "source": [
        "<a href=\"https://colab.research.google.com/github/Babiamba/Neuroniniai-tinklai/blob/main/CNN.ipynb\" target=\"_parent\"><img src=\"https://colab.research.google.com/assets/colab-badge.svg\" alt=\"Open In Colab\"/></a>"
      ]
    },
    {
      "cell_type": "markdown",
      "metadata": {
        "id": "1NsCIk968Ye_"
      },
      "source": [
        "CNN"
      ]
    },
    {
      "cell_type": "code",
      "metadata": {
        "colab": {
          "base_uri": "https://localhost:8080/"
        },
        "id": "JU3o5E5h8Xp3",
        "outputId": "6a0721f2-4e94-456e-98ba-0082c579dd38"
      },
      "source": [
        "import os\n",
        "import numpy as np\n",
        "import matplotlib.pyplot as plt\n",
        "from tensorflow.keras.datasets import mnist         #  Mnist\n",
        "from tensorflow import keras\n",
        "from tensorflow.keras.layers import Dense, Flatten, Dropout, Conv2D, MaxPooling2D\n",
        "\n",
        "(x_train, y_train), (x_test, y_test) = mnist.load_data()\n",
        "\n",
        "# Įvesties duomenų standartizacija\n",
        "x_train = x_train / 255\n",
        "x_test = x_test / 255\n",
        "\n",
        "y_train_cat = keras.utils.to_categorical(y_train, 10)\n",
        "y_test_cat = keras.utils.to_categorical(y_test, 10)\n",
        "\n",
        "x_train = np.expand_dims(x_train, axis=3)\n",
        "x_test = np.expand_dims(x_test, axis=3)\n",
        "\n",
        "print( x_train.shape )\n",
        "\n",
        "model = keras.Sequential([\n",
        "    Conv2D(32, (3,3), padding='same', activation='relu', input_shape=(28, 28, 1)),\n",
        "    MaxPooling2D((2, 2), strides=2),\n",
        "    Conv2D(64, (3,3), padding='same', activation='relu'),\n",
        "    MaxPooling2D((2, 2), strides=2),\n",
        "    Flatten(),\n",
        "    Dense(128, activation='relu'),\n",
        "    Dense(10,  activation='softmax')\n",
        "])\n",
        "\n",
        "# print(model.summary())      # NT struktura\n",
        "\n",
        "model.compile(optimizer='adam',\n",
        "             loss='categorical_crossentropy',\n",
        "             metrics=['accuracy'])\n",
        "\n",
        "\n",
        "his = model.fit(x_train, y_train_cat, batch_size=32, epochs=5, validation_split=0.2)\n",
        "\n",
        "model.evaluate(x_test, y_test_cat)"
      ],
      "execution_count": 1,
      "outputs": [
        {
          "output_type": "stream",
          "name": "stdout",
          "text": [
            "Downloading data from https://storage.googleapis.com/tensorflow/tf-keras-datasets/mnist.npz\n",
            "11493376/11490434 [==============================] - 0s 0us/step\n",
            "11501568/11490434 [==============================] - 0s 0us/step\n",
            "(60000, 28, 28, 1)\n",
            "Epoch 1/5\n",
            "1500/1500 [==============================] - 58s 38ms/step - loss: 0.1410 - accuracy: 0.9566 - val_loss: 0.0520 - val_accuracy: 0.9854\n",
            "Epoch 2/5\n",
            "1500/1500 [==============================] - 56s 38ms/step - loss: 0.0433 - accuracy: 0.9862 - val_loss: 0.0494 - val_accuracy: 0.9850\n",
            "Epoch 3/5\n",
            "1500/1500 [==============================] - 57s 38ms/step - loss: 0.0281 - accuracy: 0.9912 - val_loss: 0.0419 - val_accuracy: 0.9870\n",
            "Epoch 4/5\n",
            "1500/1500 [==============================] - 58s 39ms/step - loss: 0.0200 - accuracy: 0.9935 - val_loss: 0.0398 - val_accuracy: 0.9889\n",
            "Epoch 5/5\n",
            "1500/1500 [==============================] - 57s 38ms/step - loss: 0.0161 - accuracy: 0.9945 - val_loss: 0.0382 - val_accuracy: 0.9892\n",
            "313/313 [==============================] - 3s 11ms/step - loss: 0.0300 - accuracy: 0.9910\n"
          ]
        },
        {
          "output_type": "execute_result",
          "data": {
            "text/plain": [
              "[0.029958797618746758, 0.9909999966621399]"
            ]
          },
          "metadata": {},
          "execution_count": 1
        }
      ]
    }
  ]
}