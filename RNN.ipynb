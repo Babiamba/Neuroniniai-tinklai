{
  "nbformat": 4,
  "nbformat_minor": 0,
  "metadata": {
    "colab": {
      "name": "RNN.ipynb",
      "provenance": [],
      "authorship_tag": "ABX9TyN41Z7w1qXWIcPIDUmRNoGp",
      "include_colab_link": true
    },
    "kernelspec": {
      "name": "python3",
      "display_name": "Python 3"
    },
    "language_info": {
      "name": "python"
    }
  },
  "cells": [
    {
      "cell_type": "markdown",
      "metadata": {
        "id": "view-in-github",
        "colab_type": "text"
      },
      "source": [
        "<a href=\"https://colab.research.google.com/github/Babiamba/Neuroniniai-tinklai/blob/main/RNN.ipynb\" target=\"_parent\"><img src=\"https://colab.research.google.com/assets/colab-badge.svg\" alt=\"Open In Colab\"/></a>"
      ]
    },
    {
      "cell_type": "code",
      "metadata": {
        "id": "QI6TdOdF3E5e"
      },
      "source": [
        "RNN chars prediction"
      ],
      "execution_count": null,
      "outputs": []
    },
    {
      "cell_type": "code",
      "metadata": {
        "id": "l9JpnIBu3H3H"
      },
      "source": [
        ""
      ],
      "execution_count": null,
      "outputs": []
    },
    {
      "cell_type": "code",
      "metadata": {
        "id": "65rjev6DpP_a"
      },
      "source": [
        "import os\n",
        "import numpy as np\n",
        "import re\n",
        "\n",
        "from tensorflow.keras.layers import Dense, SimpleRNN, Input\n",
        "from tensorflow.keras.models import Sequential\n",
        "from tensorflow.keras.optimizers import Adam\n",
        "from tensorflow.keras.preprocessing.text import Tokenizer\n",
        "\n",
        "with open('train_data_true', 'r', encoding='utf-8') as f:\n",
        "    text = f.read()\n",
        "    text = text.replace('\\ufeff', '')  # убираем первый невидимый символ\n",
        "    text = re.sub(r'[^А-я ]', '', text)  # заменяем все символы кроме кириллицы на пустые символы\n",
        "\n",
        "# парсим текст, как последовательность символов\n",
        "num_characters = 34  # 33 буквы + пробел\n",
        "tokenizer = Tokenizer(num_words=num_characters, char_level=True)  # токенизируем на уровне символов\n",
        "tokenizer.fit_on_texts([text])  # формируем токены на основе частотности в нашем тексте\n",
        "print(tokenizer.word_index)\n",
        "\n",
        "inp_chars = 6\n",
        "data = tokenizer.texts_to_matrix(text)  # преобразуем исходный текст в массив OHE\n",
        "n = data.shape[0] - inp_chars  # так как мы предсказываем по трем символам - четвертый\n",
        "\n",
        "X = np.array([data[i:i + inp_chars, :] for i in range(n)])\n",
        "Y = data[inp_chars:]  # предсказание следующего символа\n",
        "\n",
        "print(data.shape)\n",
        "\n",
        "model = Sequential()\n",
        "model.add(Input((inp_chars,\n",
        "                 num_characters)))  # при тренировке в рекуррентные модели keras подается сразу вся последовательность, поэтому в input теперь два числа. 1-длина последовательности, 2-размер OHE\n",
        "model.add(SimpleRNN(128, activation='tanh'))  # рекуррентный слой на 500 нейронов\n",
        "model.add(Dense(num_characters, activation='softmax'))\n",
        "model.summary()\n",
        "\n",
        "model.compile(loss='categorical_crossentropy', metrics=['accuracy'], optimizer='adam')\n",
        "\n",
        "history = model.fit(X, Y, batch_size=32, epochs=100)\n",
        "\n",
        "\n",
        "def buildPhrase(inp_str, str_len=50):\n",
        "    for i in range(str_len):\n",
        "        x = []\n",
        "        for j in range(i, i + inp_chars):\n",
        "            x.append(tokenizer.texts_to_matrix(inp_str[j]))  # преобразуем символы в One-Hot-encoding\n",
        "\n",
        "        x = np.array(x)\n",
        "        inp = x.reshape(1, inp_chars, num_characters)\n",
        "\n",
        "        pred = model.predict(inp)  # предсказываем OHE четвертого символа\n",
        "        d = tokenizer.index_word[pred.argmax(axis=1)[0]]  # получаем ответ в символьном представлении\n",
        "\n",
        "        inp_str += d  # дописываем строку\n",
        "\n",
        "    return inp_str\n",
        "\n",
        "\n",
        "res = buildPhrase(\"утренн\")\n",
        "print(res)"
      ],
      "execution_count": null,
      "outputs": []
    }
  ]
}