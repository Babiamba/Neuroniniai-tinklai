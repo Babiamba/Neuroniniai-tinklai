{
  "nbformat": 4,
  "nbformat_minor": 0,
  "metadata": {
    "colab": {
      "name": "1 NN.ipynb",
      "provenance": [],
      "collapsed_sections": []
    },
    "kernelspec": {
      "name": "python3",
      "display_name": "Python 3"
    },
    "language_info": {
      "name": "python"
    }
  },
  "cells": [
    {
      "cell_type": "markdown",
      "metadata": {
        "id": "pLRlyWb9Q3TS"
      },
      "source": [
        "PVM skaičiavimas LT"
      ]
    },
    {
      "cell_type": "code",
      "metadata": {
        "colab": {
          "base_uri": "https://localhost:8080/",
          "height": 320
        },
        "id": "XJgmzUpE_q16",
        "outputId": "3429745c-cf97-4cb7-cbcf-32ada0533a32"
      },
      "source": [
        "import numpy as np\n",
        "import matplotlib.pyplot as plt\n",
        "from tensorflow import keras\n",
        "from tensorflow.keras.layers import Dense\n",
        "\n",
        "\n",
        "\n",
        "c = np.array([85, 86, 100, 10, -5, 354, 1])\n",
        "f = np.array([102.85, 104.06, 121, 12.1, -6.05, 428.3, 1.21])\n",
        "\n",
        "model = keras.Sequential()\n",
        "model.add(Dense(units=1, input_shape=(1,), activation='linear'))\n",
        "model.compile(loss='mean_squared_error', optimizer=keras.optimizers.Adam(0.1))\n",
        "\n",
        "history = model.fit(c, f, epochs=1000, verbose=0)\n",
        "print(\"Mokymas baigtas\")\n",
        "\n",
        "print(model.predict([10]))\n",
        "print(model.get_weights())\n",
        "\n",
        "plt.plot(history.history['loss'])\n",
        "plt.grid(True)\n",
        "plt.show()"
      ],
      "execution_count": 19,
      "outputs": [
        {
          "output_type": "stream",
          "name": "stdout",
          "text": [
            "Mokymas baigtas\n",
            "[[12.103364]]\n",
            "[array([[1.2098867]], dtype=float32), array([0.00449725], dtype=float32)]\n"
          ]
        },
        {
          "output_type": "display_data",
          "data": {
            "image/png": "[encoded data removed]",
            "text/plain": [
              "<Figure size 432x288 with 1 Axes>"
            ]
          },
          "metadata": {
            "needs_background": "light"
          }
        }
      ]
    },
    {
      "cell_type": "markdown",
      "metadata": {
        "id": "AbsQ9bTkQxis"
      },
      "source": [
        ""
      ]
    },
    {
      "cell_type": "markdown",
      "metadata": {
        "id": "wXDp4op3Q0Z2"
      },
      "source": [
        "# New Section"
      ]
    },
    {
      "cell_type": "code",
      "metadata": {
        "colab": {
          "base_uri": "https://localhost:8080/",
          "height": 320
        },
        "id": "p6tgLp_IIjGo",
        "outputId": "7232304b-a048-414b-b6a1-ce1660d68ba6"
      },
      "source": [
        "import numpy as np\n",
        "import matplotlib.pyplot as plt\n",
        "from tensorflow import keras\n",
        "from tensorflow.keras.layers import Dense\n",
        "\n",
        "\n",
        "\n",
        "c = np.array([85, 86, 100, 10, -5, 354, 1])\n",
        "f = np.array([102.85, 104.06, 121, 12.1, -6.05, 428.3, 1.21])\n",
        "\n",
        "model = keras.Sequential()\n",
        "model.add(Dense(units=1, input_shape=(1,), activation='linear'))\n",
        "model.compile(loss='mean_squared_error', optimizer=keras.optimizers.Adam(0.1))\n",
        "\n",
        "history = model.fit(c, f, epochs=500, verbose=0)\n",
        "print(\"Mokymas baigtas\")\n",
        "\n",
        "print(model.predict([10]))\n",
        "print(model.get_weights())\n",
        "\n",
        "plt.plot(history.history['loss'])\n",
        "plt.grid(True)\n",
        "plt.show()"
      ],
      "execution_count": 20,
      "outputs": [
        {
          "output_type": "stream",
          "name": "stdout",
          "text": [
            "Mokymas baigtas\n",
            "[[12.239785]]\n",
            "[array([[1.2092836]], dtype=float32), array([0.14694858], dtype=float32)]\n"
          ]
        },
        {
          "output_type": "display_data",
          "data": {
            "image/png": "[encoded data removed]",
            "text/plain": [
              "<Figure size 432x288 with 1 Axes>"
            ]
          },
          "metadata": {
            "needs_background": "light"
          }
        }
      ]
    }
  ]
}