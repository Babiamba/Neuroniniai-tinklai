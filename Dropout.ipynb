{
  "nbformat": 4,
  "nbformat_minor": 0,
  "metadata": {
    "colab": {
      "name": "Dropout.ipynb",
      "provenance": [],
      "authorship_tag": "ABX9TyNniza8dPSALGXwvWPFf1lA",
      "include_colab_link": true
    },
    "kernelspec": {
      "name": "python3",
      "display_name": "Python 3"
    },
    "language_info": {
      "name": "python"
    }
  },
  "cells": [
    {
      "cell_type": "markdown",
      "metadata": {
        "id": "view-in-github",
        "colab_type": "text"
      },
      "source": [
        "<a href=\"https://colab.research.google.com/github/Babiamba/Neuroniniai-tinklai/blob/main/Dropout.ipynb\" target=\"_parent\"><img src=\"https://colab.research.google.com/assets/colab-badge.svg\" alt=\"Open In Colab\"/></a>"
      ]
    },
    {
      "cell_type": "code",
      "metadata": {
        "id": "k-wSNSZXo8kH"
      },
      "source": [
        "import os\n",
        "import numpy as np\n",
        "import matplotlib.pyplot as plt\n",
        "from tensorflow.keras.datasets import mnist         # Mnist dataset\n",
        "from tensorflow import keras\n",
        "from tensorflow.keras.layers import Dense, Flatten, Dropout"
      ],
      "execution_count": 1,
      "outputs": []
    },
    {
      "cell_type": "code",
      "metadata": {
        "colab": {
          "base_uri": "https://localhost:8080/"
        },
        "id": "PygD0BGLpPbq",
        "outputId": "0dc17ab2-519d-4ee4-abdc-86b3d0f9e720"
      },
      "source": [
        "(x_train, y_train), (x_test, y_test) = mnist.load_data()\n",
        "\n",
        "# Įvadinių duomenų standartizacija\n",
        "\n",
        "x_train = x_train / 255\n",
        "x_test = x_test / 255\n",
        "\n",
        "y_train_cat = keras.utils.to_categorical(y_train, 10)\n",
        "y_test_cat = keras.utils.to_categorical(y_test, 10)\n",
        "\n",
        "limit = 5000\n",
        "x_train_data = x_train[:limit]\n",
        "y_train_data = y_train_cat[:limit]\n",
        "\n",
        "x_valid = x_train[limit:limit*2]\n",
        "y_valid = y_train_cat[limit:limit*2]"
      ],
      "execution_count": 2,
      "outputs": [
        {
          "output_type": "stream",
          "name": "stdout",
          "text": [
            "Downloading data from https://storage.googleapis.com/tensorflow/tf-keras-datasets/mnist.npz\n",
            "11493376/11490434 [==============================] - 0s 0us/step\n",
            "11501568/11490434 [==============================] - 0s 0us/step\n"
          ]
        }
      ]
    },
    {
      "cell_type": "code",
      "metadata": {
        "colab": {
          "base_uri": "https://localhost:8080/",
          "height": 1000
        },
        "id": "2Jp5MIwDppbN",
        "outputId": "60e9e136-27a3-41d5-f09d-882a5f34759c"
      },
      "source": [
        "model = keras.Sequential([\n",
        "    Flatten(input_shape=(28, 28, 1)),\n",
        "    Dense(300, activation='relu'),\n",
        "    Dropout(0.8),\n",
        "    Dense(10, activation='softmax') ])\n",
        "\n",
        "# print(model.summary())      # NT išvedimas į konsolę\n",
        "\n",
        "model.compile(optimizer='adam',\n",
        "             loss='categorical_crossentropy',\n",
        "             metrics=['accuracy'])\n",
        "\n",
        "\n",
        "his = model.fit(x_train_data, y_train_data, epochs=50, batch_size=32, validation_data=(x_valid, y_valid))\n",
        "\n",
        "\n",
        "plt.plot(his.history['loss'])\n",
        "plt.plot(his.history['val_loss'])\n",
        "plt.show()"
      ],
      "execution_count": 3,
      "outputs": [
        {
          "output_type": "stream",
          "name": "stdout",
          "text": [
            "Epoch 1/50\n",
            "157/157 [==============================] - 2s 6ms/step - loss: 1.1572 - accuracy: 0.6324 - val_loss: 0.4849 - val_accuracy: 0.8714\n",
            "Epoch 2/50\n",
            "157/157 [==============================] - 1s 5ms/step - loss: 0.5887 - accuracy: 0.8120 - val_loss: 0.3669 - val_accuracy: 0.9004\n",
            "Epoch 3/50\n",
            "157/157 [==============================] - 1s 5ms/step - loss: 0.4859 - accuracy: 0.8494 - val_loss: 0.3222 - val_accuracy: 0.9070\n",
            "Epoch 4/50\n",
            "157/157 [==============================] - 1s 5ms/step - loss: 0.4135 - accuracy: 0.8692 - val_loss: 0.2909 - val_accuracy: 0.9116\n",
            "Epoch 5/50\n",
            "157/157 [==============================] - 1s 5ms/step - loss: 0.3706 - accuracy: 0.8908 - val_loss: 0.2783 - val_accuracy: 0.9154\n",
            "Epoch 6/50\n",
            "157/157 [==============================] - 1s 5ms/step - loss: 0.3443 - accuracy: 0.8978 - val_loss: 0.2678 - val_accuracy: 0.9210\n",
            "Epoch 7/50\n",
            "157/157 [==============================] - 1s 5ms/step - loss: 0.3214 - accuracy: 0.8998 - val_loss: 0.2493 - val_accuracy: 0.9264\n",
            "Epoch 8/50\n",
            "157/157 [==============================] - 1s 5ms/step - loss: 0.2782 - accuracy: 0.9164 - val_loss: 0.2460 - val_accuracy: 0.9242\n",
            "Epoch 9/50\n",
            "157/157 [==============================] - 1s 5ms/step - loss: 0.2896 - accuracy: 0.9118 - val_loss: 0.2426 - val_accuracy: 0.9250\n",
            "Epoch 10/50\n",
            "157/157 [==============================] - 1s 5ms/step - loss: 0.2745 - accuracy: 0.9150 - val_loss: 0.2326 - val_accuracy: 0.9292\n",
            "Epoch 11/50\n",
            "157/157 [==============================] - 1s 5ms/step - loss: 0.2619 - accuracy: 0.9194 - val_loss: 0.2260 - val_accuracy: 0.9308\n",
            "Epoch 12/50\n",
            "157/157 [==============================] - 1s 5ms/step - loss: 0.2397 - accuracy: 0.9284 - val_loss: 0.2238 - val_accuracy: 0.9324\n",
            "Epoch 13/50\n",
            "157/157 [==============================] - 1s 5ms/step - loss: 0.2406 - accuracy: 0.9270 - val_loss: 0.2147 - val_accuracy: 0.9352\n",
            "Epoch 14/50\n",
            "157/157 [==============================] - 1s 5ms/step - loss: 0.2186 - accuracy: 0.9340 - val_loss: 0.2253 - val_accuracy: 0.9324\n",
            "Epoch 15/50\n",
            "157/157 [==============================] - 1s 5ms/step - loss: 0.2063 - accuracy: 0.9370 - val_loss: 0.2158 - val_accuracy: 0.9348\n",
            "Epoch 16/50\n",
            "157/157 [==============================] - 1s 5ms/step - loss: 0.2114 - accuracy: 0.9342 - val_loss: 0.2168 - val_accuracy: 0.9324\n",
            "Epoch 17/50\n",
            "157/157 [==============================] - 1s 5ms/step - loss: 0.2108 - accuracy: 0.9342 - val_loss: 0.2111 - val_accuracy: 0.9378\n",
            "Epoch 18/50\n",
            "157/157 [==============================] - 1s 5ms/step - loss: 0.2026 - accuracy: 0.9360 - val_loss: 0.2118 - val_accuracy: 0.9362\n",
            "Epoch 19/50\n",
            "157/157 [==============================] - 1s 5ms/step - loss: 0.1987 - accuracy: 0.9356 - val_loss: 0.2090 - val_accuracy: 0.9378\n",
            "Epoch 20/50\n",
            "157/157 [==============================] - 1s 5ms/step - loss: 0.1922 - accuracy: 0.9396 - val_loss: 0.2088 - val_accuracy: 0.9366\n",
            "Epoch 21/50\n",
            "157/157 [==============================] - 1s 5ms/step - loss: 0.1924 - accuracy: 0.9374 - val_loss: 0.2022 - val_accuracy: 0.9396\n",
            "Epoch 22/50\n",
            "157/157 [==============================] - 1s 5ms/step - loss: 0.1820 - accuracy: 0.9436 - val_loss: 0.2060 - val_accuracy: 0.9384\n",
            "Epoch 23/50\n",
            "157/157 [==============================] - 1s 4ms/step - loss: 0.1598 - accuracy: 0.9514 - val_loss: 0.2049 - val_accuracy: 0.9380\n",
            "Epoch 24/50\n",
            "157/157 [==============================] - 1s 4ms/step - loss: 0.1695 - accuracy: 0.9458 - val_loss: 0.2029 - val_accuracy: 0.9398\n",
            "Epoch 25/50\n",
            "157/157 [==============================] - 1s 5ms/step - loss: 0.1594 - accuracy: 0.9456 - val_loss: 0.2084 - val_accuracy: 0.9396\n",
            "Epoch 26/50\n",
            "157/157 [==============================] - 1s 4ms/step - loss: 0.1561 - accuracy: 0.9506 - val_loss: 0.2119 - val_accuracy: 0.9390\n",
            "Epoch 27/50\n",
            "157/157 [==============================] - 1s 5ms/step - loss: 0.1538 - accuracy: 0.9454 - val_loss: 0.2126 - val_accuracy: 0.9374\n",
            "Epoch 28/50\n",
            "157/157 [==============================] - 1s 4ms/step - loss: 0.1486 - accuracy: 0.9514 - val_loss: 0.2127 - val_accuracy: 0.9370\n",
            "Epoch 29/50\n",
            "157/157 [==============================] - 1s 5ms/step - loss: 0.1499 - accuracy: 0.9518 - val_loss: 0.2095 - val_accuracy: 0.9400\n",
            "Epoch 30/50\n",
            "157/157 [==============================] - 1s 4ms/step - loss: 0.1456 - accuracy: 0.9530 - val_loss: 0.2228 - val_accuracy: 0.9350\n",
            "Epoch 31/50\n",
            "157/157 [==============================] - 1s 5ms/step - loss: 0.1414 - accuracy: 0.9568 - val_loss: 0.2198 - val_accuracy: 0.9380\n",
            "Epoch 32/50\n",
            "157/157 [==============================] - 1s 5ms/step - loss: 0.1356 - accuracy: 0.9542 - val_loss: 0.2154 - val_accuracy: 0.9400\n",
            "Epoch 33/50\n",
            "157/157 [==============================] - 1s 5ms/step - loss: 0.1312 - accuracy: 0.9588 - val_loss: 0.2199 - val_accuracy: 0.9414\n",
            "Epoch 34/50\n",
            "157/157 [==============================] - 1s 5ms/step - loss: 0.1429 - accuracy: 0.9548 - val_loss: 0.2060 - val_accuracy: 0.9430\n",
            "Epoch 35/50\n",
            "157/157 [==============================] - 1s 5ms/step - loss: 0.1257 - accuracy: 0.9588 - val_loss: 0.2156 - val_accuracy: 0.9388\n",
            "Epoch 36/50\n",
            "157/157 [==============================] - 1s 5ms/step - loss: 0.1364 - accuracy: 0.9570 - val_loss: 0.2150 - val_accuracy: 0.9412\n",
            "Epoch 37/50\n",
            "157/157 [==============================] - 1s 5ms/step - loss: 0.1249 - accuracy: 0.9604 - val_loss: 0.2093 - val_accuracy: 0.9442\n",
            "Epoch 38/50\n",
            "157/157 [==============================] - 1s 5ms/step - loss: 0.1401 - accuracy: 0.9544 - val_loss: 0.2129 - val_accuracy: 0.9422\n",
            "Epoch 39/50\n",
            "157/157 [==============================] - 1s 5ms/step - loss: 0.1287 - accuracy: 0.9576 - val_loss: 0.2015 - val_accuracy: 0.9442\n",
            "Epoch 40/50\n",
            "157/157 [==============================] - 1s 5ms/step - loss: 0.1167 - accuracy: 0.9592 - val_loss: 0.2109 - val_accuracy: 0.9438\n",
            "Epoch 41/50\n",
            "157/157 [==============================] - 1s 5ms/step - loss: 0.1254 - accuracy: 0.9598 - val_loss: 0.2054 - val_accuracy: 0.9452\n",
            "Epoch 42/50\n",
            "157/157 [==============================] - 1s 5ms/step - loss: 0.1242 - accuracy: 0.9624 - val_loss: 0.2176 - val_accuracy: 0.9436\n",
            "Epoch 43/50\n",
            "157/157 [==============================] - 1s 5ms/step - loss: 0.1146 - accuracy: 0.9664 - val_loss: 0.2052 - val_accuracy: 0.9448\n",
            "Epoch 44/50\n",
            "157/157 [==============================] - 1s 5ms/step - loss: 0.1139 - accuracy: 0.9596 - val_loss: 0.2061 - val_accuracy: 0.9468\n",
            "Epoch 45/50\n",
            "157/157 [==============================] - 1s 5ms/step - loss: 0.1148 - accuracy: 0.9624 - val_loss: 0.2060 - val_accuracy: 0.9456\n",
            "Epoch 46/50\n",
            "157/157 [==============================] - 1s 5ms/step - loss: 0.1110 - accuracy: 0.9628 - val_loss: 0.2092 - val_accuracy: 0.9438\n",
            "Epoch 47/50\n",
            "157/157 [==============================] - 1s 5ms/step - loss: 0.1262 - accuracy: 0.9566 - val_loss: 0.2044 - val_accuracy: 0.9466\n",
            "Epoch 48/50\n",
            "157/157 [==============================] - 1s 5ms/step - loss: 0.1045 - accuracy: 0.9650 - val_loss: 0.2118 - val_accuracy: 0.9442\n",
            "Epoch 49/50\n",
            "157/157 [==============================] - 1s 5ms/step - loss: 0.1024 - accuracy: 0.9642 - val_loss: 0.2148 - val_accuracy: 0.9450\n",
            "Epoch 50/50\n",
            "157/157 [==============================] - 1s 5ms/step - loss: 0.1072 - accuracy: 0.9658 - val_loss: 0.2170 - val_accuracy: 0.9444\n"
          ]
        },
        {
          "output_type": "display_data",
          "data": {
            "image/png": "[encoded data removed]",
            "text/plain": [
              "<Figure size 432x288 with 1 Axes>"
            ]
          },
          "metadata": {
            "needs_background": "light"
          }
        }
      ]
    },
    {
      "cell_type": "code",
      "metadata": {
        "id": "feC4F21LqMom"
      },
      "source": [
        ""
      ],
      "execution_count": null,
      "outputs": []
    },
    {
      "cell_type": "code",
      "metadata": {
        "colab": {
          "base_uri": "https://localhost:8080/",
          "height": 1000
        },
        "id": "BJ4stUVeqNM4",
        "outputId": "384a161b-b7df-4e93-d1c3-c8bc77874287"
      },
      "source": [
        "model = keras.Sequential([\n",
        "    Flatten(input_shape=(28, 28, 1)),\n",
        "    Dense(300, activation='relu'),\n",
        "    Dropout(0.5),\n",
        "    Dense(10, activation='softmax') ])\n",
        "\n",
        "# print(model.summary())      # NT išvedimas į konsolę\n",
        "\n",
        "model.compile(optimizer='adam',\n",
        "             loss='categorical_crossentropy',\n",
        "             metrics=['accuracy'])\n",
        "\n",
        "\n",
        "his = model.fit(x_train_data, y_train_data, epochs=50, batch_size=32, validation_data=(x_valid, y_valid))\n",
        "\n",
        "\n",
        "plt.plot(his.history['loss'])\n",
        "plt.plot(his.history['val_loss'])\n",
        "plt.show()"
      ],
      "execution_count": 4,
      "outputs": [
        {
          "output_type": "stream",
          "name": "stdout",
          "text": [
            "Epoch 1/50\n",
            "157/157 [==============================] - 1s 6ms/step - loss: 0.7536 - accuracy: 0.7812 - val_loss: 0.3688 - val_accuracy: 0.9010\n",
            "Epoch 2/50\n",
            "157/157 [==============================] - 1s 5ms/step - loss: 0.3491 - accuracy: 0.9022 - val_loss: 0.2982 - val_accuracy: 0.9140\n",
            "Epoch 3/50\n",
            "157/157 [==============================] - 1s 5ms/step - loss: 0.2696 - accuracy: 0.9246 - val_loss: 0.2788 - val_accuracy: 0.9142\n",
            "Epoch 4/50\n",
            "157/157 [==============================] - 1s 4ms/step - loss: 0.2144 - accuracy: 0.9406 - val_loss: 0.2570 - val_accuracy: 0.9232\n",
            "Epoch 5/50\n",
            "157/157 [==============================] - 1s 5ms/step - loss: 0.1725 - accuracy: 0.9482 - val_loss: 0.2285 - val_accuracy: 0.9308\n",
            "Epoch 6/50\n",
            "157/157 [==============================] - 1s 5ms/step - loss: 0.1571 - accuracy: 0.9540 - val_loss: 0.2209 - val_accuracy: 0.9338\n",
            "Epoch 7/50\n",
            "157/157 [==============================] - 1s 5ms/step - loss: 0.1298 - accuracy: 0.9650 - val_loss: 0.2120 - val_accuracy: 0.9344\n",
            "Epoch 8/50\n",
            "157/157 [==============================] - 1s 4ms/step - loss: 0.1213 - accuracy: 0.9664 - val_loss: 0.2008 - val_accuracy: 0.9374\n",
            "Epoch 9/50\n",
            "157/157 [==============================] - 1s 5ms/step - loss: 0.0941 - accuracy: 0.9738 - val_loss: 0.1969 - val_accuracy: 0.9384\n",
            "Epoch 10/50\n",
            "157/157 [==============================] - 1s 5ms/step - loss: 0.0898 - accuracy: 0.9748 - val_loss: 0.1943 - val_accuracy: 0.9418\n",
            "Epoch 11/50\n",
            "157/157 [==============================] - 1s 5ms/step - loss: 0.0740 - accuracy: 0.9774 - val_loss: 0.1949 - val_accuracy: 0.9378\n",
            "Epoch 12/50\n",
            "157/157 [==============================] - 1s 5ms/step - loss: 0.0736 - accuracy: 0.9786 - val_loss: 0.1918 - val_accuracy: 0.9408\n",
            "Epoch 13/50\n",
            "157/157 [==============================] - 1s 5ms/step - loss: 0.0638 - accuracy: 0.9824 - val_loss: 0.1962 - val_accuracy: 0.9398\n",
            "Epoch 14/50\n",
            "157/157 [==============================] - 1s 5ms/step - loss: 0.0559 - accuracy: 0.9838 - val_loss: 0.1935 - val_accuracy: 0.9424\n",
            "Epoch 15/50\n",
            "157/157 [==============================] - 1s 5ms/step - loss: 0.0478 - accuracy: 0.9886 - val_loss: 0.1894 - val_accuracy: 0.9446\n",
            "Epoch 16/50\n",
            "157/157 [==============================] - 1s 5ms/step - loss: 0.0424 - accuracy: 0.9894 - val_loss: 0.1921 - val_accuracy: 0.9450\n",
            "Epoch 17/50\n",
            "157/157 [==============================] - 1s 5ms/step - loss: 0.0430 - accuracy: 0.9864 - val_loss: 0.1997 - val_accuracy: 0.9428\n",
            "Epoch 18/50\n",
            "157/157 [==============================] - 1s 5ms/step - loss: 0.0380 - accuracy: 0.9896 - val_loss: 0.2014 - val_accuracy: 0.9434\n",
            "Epoch 19/50\n",
            "157/157 [==============================] - 1s 5ms/step - loss: 0.0413 - accuracy: 0.9876 - val_loss: 0.2041 - val_accuracy: 0.9420\n",
            "Epoch 20/50\n",
            "157/157 [==============================] - 1s 5ms/step - loss: 0.0348 - accuracy: 0.9902 - val_loss: 0.2040 - val_accuracy: 0.9442\n",
            "Epoch 21/50\n",
            "157/157 [==============================] - 1s 4ms/step - loss: 0.0306 - accuracy: 0.9906 - val_loss: 0.1999 - val_accuracy: 0.9468\n",
            "Epoch 22/50\n",
            "157/157 [==============================] - 1s 5ms/step - loss: 0.0370 - accuracy: 0.9890 - val_loss: 0.2155 - val_accuracy: 0.9394\n",
            "Epoch 23/50\n",
            "157/157 [==============================] - 1s 5ms/step - loss: 0.0273 - accuracy: 0.9934 - val_loss: 0.2038 - val_accuracy: 0.9452\n",
            "Epoch 24/50\n",
            "157/157 [==============================] - 1s 5ms/step - loss: 0.0255 - accuracy: 0.9918 - val_loss: 0.2034 - val_accuracy: 0.9476\n",
            "Epoch 25/50\n",
            "157/157 [==============================] - 1s 4ms/step - loss: 0.0208 - accuracy: 0.9944 - val_loss: 0.1966 - val_accuracy: 0.9496\n",
            "Epoch 26/50\n",
            "157/157 [==============================] - 1s 5ms/step - loss: 0.0280 - accuracy: 0.9910 - val_loss: 0.1968 - val_accuracy: 0.9462\n",
            "Epoch 27/50\n",
            "157/157 [==============================] - 1s 5ms/step - loss: 0.0210 - accuracy: 0.9942 - val_loss: 0.2023 - val_accuracy: 0.9476\n",
            "Epoch 28/50\n",
            "157/157 [==============================] - 1s 5ms/step - loss: 0.0194 - accuracy: 0.9944 - val_loss: 0.2115 - val_accuracy: 0.9460\n",
            "Epoch 29/50\n",
            "157/157 [==============================] - 1s 5ms/step - loss: 0.0226 - accuracy: 0.9924 - val_loss: 0.2082 - val_accuracy: 0.9470\n",
            "Epoch 30/50\n",
            "157/157 [==============================] - 1s 5ms/step - loss: 0.0206 - accuracy: 0.9940 - val_loss: 0.2266 - val_accuracy: 0.9464\n",
            "Epoch 31/50\n",
            "157/157 [==============================] - 1s 5ms/step - loss: 0.0203 - accuracy: 0.9934 - val_loss: 0.2051 - val_accuracy: 0.9496\n",
            "Epoch 32/50\n",
            "157/157 [==============================] - 1s 5ms/step - loss: 0.0159 - accuracy: 0.9962 - val_loss: 0.2132 - val_accuracy: 0.9480\n",
            "Epoch 33/50\n",
            "157/157 [==============================] - 1s 5ms/step - loss: 0.0216 - accuracy: 0.9932 - val_loss: 0.2126 - val_accuracy: 0.9484\n",
            "Epoch 34/50\n",
            "157/157 [==============================] - 1s 5ms/step - loss: 0.0240 - accuracy: 0.9926 - val_loss: 0.2332 - val_accuracy: 0.9444\n",
            "Epoch 35/50\n",
            "157/157 [==============================] - 1s 5ms/step - loss: 0.0200 - accuracy: 0.9948 - val_loss: 0.2038 - val_accuracy: 0.9502\n",
            "Epoch 36/50\n",
            "157/157 [==============================] - 1s 6ms/step - loss: 0.0186 - accuracy: 0.9940 - val_loss: 0.2081 - val_accuracy: 0.9498\n",
            "Epoch 37/50\n",
            "157/157 [==============================] - 1s 5ms/step - loss: 0.0132 - accuracy: 0.9966 - val_loss: 0.2135 - val_accuracy: 0.9496\n",
            "Epoch 38/50\n",
            "157/157 [==============================] - 1s 5ms/step - loss: 0.0161 - accuracy: 0.9956 - val_loss: 0.2191 - val_accuracy: 0.9502\n",
            "Epoch 39/50\n",
            "157/157 [==============================] - 1s 5ms/step - loss: 0.0154 - accuracy: 0.9956 - val_loss: 0.2070 - val_accuracy: 0.9514\n",
            "Epoch 40/50\n",
            "157/157 [==============================] - 1s 5ms/step - loss: 0.0186 - accuracy: 0.9936 - val_loss: 0.2198 - val_accuracy: 0.9498\n",
            "Epoch 41/50\n",
            "157/157 [==============================] - 1s 5ms/step - loss: 0.0161 - accuracy: 0.9940 - val_loss: 0.2212 - val_accuracy: 0.9520\n",
            "Epoch 42/50\n",
            "157/157 [==============================] - 1s 4ms/step - loss: 0.0153 - accuracy: 0.9950 - val_loss: 0.2264 - val_accuracy: 0.9528\n",
            "Epoch 43/50\n",
            "157/157 [==============================] - 1s 5ms/step - loss: 0.0158 - accuracy: 0.9950 - val_loss: 0.2314 - val_accuracy: 0.9496\n",
            "Epoch 44/50\n",
            "157/157 [==============================] - 1s 5ms/step - loss: 0.0081 - accuracy: 0.9980 - val_loss: 0.2329 - val_accuracy: 0.9504\n",
            "Epoch 45/50\n",
            "157/157 [==============================] - 1s 5ms/step - loss: 0.0129 - accuracy: 0.9958 - val_loss: 0.2352 - val_accuracy: 0.9498\n",
            "Epoch 46/50\n",
            "157/157 [==============================] - 1s 5ms/step - loss: 0.0116 - accuracy: 0.9970 - val_loss: 0.2320 - val_accuracy: 0.9514\n",
            "Epoch 47/50\n",
            "157/157 [==============================] - 1s 5ms/step - loss: 0.0147 - accuracy: 0.9940 - val_loss: 0.2224 - val_accuracy: 0.9516\n",
            "Epoch 48/50\n",
            "157/157 [==============================] - 1s 5ms/step - loss: 0.0119 - accuracy: 0.9966 - val_loss: 0.2351 - val_accuracy: 0.9522\n",
            "Epoch 49/50\n",
            "157/157 [==============================] - 1s 5ms/step - loss: 0.0172 - accuracy: 0.9936 - val_loss: 0.2395 - val_accuracy: 0.9478\n",
            "Epoch 50/50\n",
            "157/157 [==============================] - 1s 5ms/step - loss: 0.0163 - accuracy: 0.9946 - val_loss: 0.2152 - val_accuracy: 0.9556\n"
          ]
        },
        {
          "output_type": "display_data",
          "data": {
            "image/png": "[encoded data removed]",
            "text/plain": [
              "<Figure size 432x288 with 1 Axes>"
            ]
          },
          "metadata": {
            "needs_background": "light"
          }
        }
      ]
    }
  ]
}