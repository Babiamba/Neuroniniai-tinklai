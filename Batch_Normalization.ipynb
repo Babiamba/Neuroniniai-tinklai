{
  "nbformat": 4,
  "nbformat_minor": 0,
  "metadata": {
    "colab": {
      "name": "Batch Normalization.ipynb",
      "provenance": [],
      "authorship_tag": "ABX9TyOAORXlsWeyDqfFTfn9tbK7",
      "include_colab_link": true
    },
    "kernelspec": {
      "name": "python3",
      "display_name": "Python 3"
    },
    "language_info": {
      "name": "python"
    }
  },
  "cells": [
    {
      "cell_type": "markdown",
      "metadata": {
        "id": "view-in-github",
        "colab_type": "text"
      },
      "source": [
        "<a href=\"https://colab.research.google.com/github/Babiamba/Neuroniniai-tinklai/blob/main/Batch_Normalization.ipynb\" target=\"_parent\"><img src=\"https://colab.research.google.com/assets/colab-badge.svg\" alt=\"Open In Colab\"/></a>"
      ]
    },
    {
      "cell_type": "markdown",
      "metadata": {
        "id": "zLlXB2rFnDFI"
      },
      "source": [
        "Batch Normalization"
      ]
    },
    {
      "cell_type": "code",
      "metadata": {
        "colab": {
          "base_uri": "https://localhost:8080/",
          "height": 1000
        },
        "id": "1-Uxh8AWnCAZ",
        "outputId": "d58d5ff4-3358-49ed-ec5a-37eaa09bd212"
      },
      "source": [
        "import os\n",
        "import numpy as np\n",
        "import matplotlib.pyplot as plt\n",
        "from tensorflow.keras.datasets import mnist         #  Mnist\n",
        "from tensorflow import keras\n",
        "from tensorflow.keras.layers import Dense, Flatten, Dropout, BatchNormalization\n",
        "\n",
        "(x_train, y_train), (x_test, y_test) = mnist.load_data()\n",
        "\n",
        "# Standartizacija įvesties duomenų\n",
        "x_train = x_train / 255\n",
        "x_test = x_test / 255\n",
        "\n",
        "y_train_cat = keras.utils.to_categorical(y_train, 10)\n",
        "y_test_cat = keras.utils.to_categorical(y_test, 10)\n",
        "\n",
        "limit = 5000\n",
        "x_train_data = x_train[:limit]\n",
        "y_train_data = y_train_cat[:limit]\n",
        "\n",
        "x_valid = x_train[limit:limit*2]\n",
        "y_valid = y_train_cat[limit:limit*2]\n",
        "\n",
        "model = keras.Sequential([\n",
        "    Flatten(input_shape=(28, 28, 1)),\n",
        "    Dense(300, activation='relu'),\n",
        "    BatchNormalization(),\n",
        "    Dense(10, activation='softmax') ])\n",
        "\n",
        "# print(model.summary())      \n",
        "\n",
        "model.compile(optimizer='adam',\n",
        "             loss='categorical_crossentropy',\n",
        "             metrics=['accuracy'])\n",
        "\n",
        "\n",
        "his = model.fit(x_train_data, y_train_data, epochs=50, batch_size=32, validation_data=(x_valid, y_valid))\n",
        "\n",
        "\n",
        "plt.plot(his.history['loss'])\n",
        "plt.plot(his.history['val_loss'])\n",
        "plt.show()"
      ],
      "execution_count": 1,
      "outputs": [
        {
          "output_type": "stream",
          "name": "stdout",
          "text": [
            "Downloading data from https://storage.googleapis.com/tensorflow/tf-keras-datasets/mnist.npz\n",
            "11493376/11490434 [==============================] - 0s 0us/step\n",
            "11501568/11490434 [==============================] - 0s 0us/step\n",
            "Epoch 1/50\n",
            "157/157 [==============================] - 2s 6ms/step - loss: 0.4467 - accuracy: 0.8670 - val_loss: 0.5191 - val_accuracy: 0.8778\n",
            "Epoch 2/50\n",
            "157/157 [==============================] - 1s 4ms/step - loss: 0.1706 - accuracy: 0.9522 - val_loss: 0.2813 - val_accuracy: 0.9244\n",
            "Epoch 3/50\n",
            "157/157 [==============================] - 1s 5ms/step - loss: 0.1018 - accuracy: 0.9724 - val_loss: 0.2499 - val_accuracy: 0.9246\n",
            "Epoch 4/50\n",
            "157/157 [==============================] - 1s 4ms/step - loss: 0.0707 - accuracy: 0.9836 - val_loss: 0.2222 - val_accuracy: 0.9320\n",
            "Epoch 5/50\n",
            "157/157 [==============================] - 1s 5ms/step - loss: 0.0503 - accuracy: 0.9894 - val_loss: 0.2144 - val_accuracy: 0.9354\n",
            "Epoch 6/50\n",
            "157/157 [==============================] - 1s 5ms/step - loss: 0.0299 - accuracy: 0.9946 - val_loss: 0.2007 - val_accuracy: 0.9402\n",
            "Epoch 7/50\n",
            "157/157 [==============================] - 1s 5ms/step - loss: 0.0209 - accuracy: 0.9964 - val_loss: 0.2003 - val_accuracy: 0.9398\n",
            "Epoch 8/50\n",
            "157/157 [==============================] - 1s 5ms/step - loss: 0.0161 - accuracy: 0.9976 - val_loss: 0.2216 - val_accuracy: 0.9356\n",
            "Epoch 9/50\n",
            "157/157 [==============================] - 1s 5ms/step - loss: 0.0136 - accuracy: 0.9984 - val_loss: 0.2155 - val_accuracy: 0.9392\n",
            "Epoch 10/50\n",
            "157/157 [==============================] - 1s 4ms/step - loss: 0.0141 - accuracy: 0.9972 - val_loss: 0.2562 - val_accuracy: 0.9284\n",
            "Epoch 11/50\n",
            "157/157 [==============================] - 1s 4ms/step - loss: 0.0196 - accuracy: 0.9968 - val_loss: 0.2278 - val_accuracy: 0.9362\n",
            "Epoch 12/50\n",
            "157/157 [==============================] - 1s 5ms/step - loss: 0.0193 - accuracy: 0.9970 - val_loss: 0.2388 - val_accuracy: 0.9334\n",
            "Epoch 13/50\n",
            "157/157 [==============================] - 1s 4ms/step - loss: 0.0213 - accuracy: 0.9944 - val_loss: 0.2513 - val_accuracy: 0.9336\n",
            "Epoch 14/50\n",
            "157/157 [==============================] - 1s 5ms/step - loss: 0.0141 - accuracy: 0.9974 - val_loss: 0.2174 - val_accuracy: 0.9368\n",
            "Epoch 15/50\n",
            "157/157 [==============================] - 1s 4ms/step - loss: 0.0116 - accuracy: 0.9972 - val_loss: 0.2349 - val_accuracy: 0.9354\n",
            "Epoch 16/50\n",
            "157/157 [==============================] - 1s 4ms/step - loss: 0.0245 - accuracy: 0.9934 - val_loss: 0.2813 - val_accuracy: 0.9256\n",
            "Epoch 17/50\n",
            "157/157 [==============================] - 1s 4ms/step - loss: 0.0176 - accuracy: 0.9964 - val_loss: 0.2127 - val_accuracy: 0.9442\n",
            "Epoch 18/50\n",
            "157/157 [==============================] - 1s 4ms/step - loss: 0.0141 - accuracy: 0.9964 - val_loss: 0.2301 - val_accuracy: 0.9362\n",
            "Epoch 19/50\n",
            "157/157 [==============================] - 1s 4ms/step - loss: 0.0127 - accuracy: 0.9964 - val_loss: 0.2746 - val_accuracy: 0.9306\n",
            "Epoch 20/50\n",
            "157/157 [==============================] - 1s 5ms/step - loss: 0.0094 - accuracy: 0.9980 - val_loss: 0.2351 - val_accuracy: 0.9382\n",
            "Epoch 21/50\n",
            "157/157 [==============================] - 1s 4ms/step - loss: 0.0079 - accuracy: 0.9974 - val_loss: 0.2423 - val_accuracy: 0.9366\n",
            "Epoch 22/50\n",
            "157/157 [==============================] - 1s 5ms/step - loss: 0.0141 - accuracy: 0.9956 - val_loss: 0.2323 - val_accuracy: 0.9386\n",
            "Epoch 23/50\n",
            "157/157 [==============================] - 1s 5ms/step - loss: 0.0083 - accuracy: 0.9986 - val_loss: 0.2198 - val_accuracy: 0.9418\n",
            "Epoch 24/50\n",
            "157/157 [==============================] - 1s 4ms/step - loss: 0.0060 - accuracy: 0.9988 - val_loss: 0.2290 - val_accuracy: 0.9438\n",
            "Epoch 25/50\n",
            "157/157 [==============================] - 1s 4ms/step - loss: 0.0105 - accuracy: 0.9970 - val_loss: 0.2548 - val_accuracy: 0.9384\n",
            "Epoch 26/50\n",
            "157/157 [==============================] - 1s 5ms/step - loss: 0.0106 - accuracy: 0.9978 - val_loss: 0.2620 - val_accuracy: 0.9382\n",
            "Epoch 27/50\n",
            "157/157 [==============================] - 1s 4ms/step - loss: 0.0109 - accuracy: 0.9970 - val_loss: 0.2445 - val_accuracy: 0.9408\n",
            "Epoch 28/50\n",
            "157/157 [==============================] - 1s 4ms/step - loss: 0.0097 - accuracy: 0.9982 - val_loss: 0.2350 - val_accuracy: 0.9420\n",
            "Epoch 29/50\n",
            "157/157 [==============================] - 1s 5ms/step - loss: 0.0044 - accuracy: 0.9992 - val_loss: 0.2451 - val_accuracy: 0.9426\n",
            "Epoch 30/50\n",
            "157/157 [==============================] - 1s 4ms/step - loss: 0.0065 - accuracy: 0.9988 - val_loss: 0.2480 - val_accuracy: 0.9438\n",
            "Epoch 31/50\n",
            "157/157 [==============================] - 1s 4ms/step - loss: 0.0048 - accuracy: 0.9984 - val_loss: 0.2518 - val_accuracy: 0.9412\n",
            "Epoch 32/50\n",
            "157/157 [==============================] - 1s 4ms/step - loss: 0.0078 - accuracy: 0.9980 - val_loss: 0.3260 - val_accuracy: 0.9302\n",
            "Epoch 33/50\n",
            "157/157 [==============================] - 1s 4ms/step - loss: 0.0090 - accuracy: 0.9980 - val_loss: 0.3061 - val_accuracy: 0.9306\n",
            "Epoch 34/50\n",
            "157/157 [==============================] - 1s 4ms/step - loss: 0.0107 - accuracy: 0.9964 - val_loss: 0.2636 - val_accuracy: 0.9426\n",
            "Epoch 35/50\n",
            "157/157 [==============================] - 1s 4ms/step - loss: 0.0145 - accuracy: 0.9962 - val_loss: 0.2855 - val_accuracy: 0.9368\n",
            "Epoch 36/50\n",
            "157/157 [==============================] - 1s 4ms/step - loss: 0.0064 - accuracy: 0.9988 - val_loss: 0.2404 - val_accuracy: 0.9456\n",
            "Epoch 37/50\n",
            "157/157 [==============================] - 1s 5ms/step - loss: 0.0078 - accuracy: 0.9978 - val_loss: 0.2431 - val_accuracy: 0.9474\n",
            "Epoch 38/50\n",
            "157/157 [==============================] - 1s 4ms/step - loss: 0.0057 - accuracy: 0.9984 - val_loss: 0.2320 - val_accuracy: 0.9484\n",
            "Epoch 39/50\n",
            "157/157 [==============================] - 1s 4ms/step - loss: 0.0080 - accuracy: 0.9968 - val_loss: 0.2562 - val_accuracy: 0.9434\n",
            "Epoch 40/50\n",
            "157/157 [==============================] - 1s 4ms/step - loss: 0.0084 - accuracy: 0.9976 - val_loss: 0.2517 - val_accuracy: 0.9392\n",
            "Epoch 41/50\n",
            "157/157 [==============================] - 1s 4ms/step - loss: 0.0068 - accuracy: 0.9986 - val_loss: 0.2556 - val_accuracy: 0.9418\n",
            "Epoch 42/50\n",
            "157/157 [==============================] - 1s 5ms/step - loss: 0.0099 - accuracy: 0.9968 - val_loss: 0.2760 - val_accuracy: 0.9380\n",
            "Epoch 43/50\n",
            "157/157 [==============================] - 1s 4ms/step - loss: 0.0064 - accuracy: 0.9982 - val_loss: 0.2577 - val_accuracy: 0.9412\n",
            "Epoch 44/50\n",
            "157/157 [==============================] - 1s 5ms/step - loss: 0.0059 - accuracy: 0.9982 - val_loss: 0.2613 - val_accuracy: 0.9436\n",
            "Epoch 45/50\n",
            "157/157 [==============================] - 1s 4ms/step - loss: 0.0074 - accuracy: 0.9978 - val_loss: 0.2521 - val_accuracy: 0.9424\n",
            "Epoch 46/50\n",
            "157/157 [==============================] - 1s 5ms/step - loss: 0.0066 - accuracy: 0.9982 - val_loss: 0.2543 - val_accuracy: 0.9450\n",
            "Epoch 47/50\n",
            "157/157 [==============================] - 1s 5ms/step - loss: 0.0120 - accuracy: 0.9968 - val_loss: 0.2768 - val_accuracy: 0.9370\n",
            "Epoch 48/50\n",
            "157/157 [==============================] - 1s 5ms/step - loss: 0.0090 - accuracy: 0.9976 - val_loss: 0.2505 - val_accuracy: 0.9458\n",
            "Epoch 49/50\n",
            "157/157 [==============================] - 1s 5ms/step - loss: 0.0037 - accuracy: 0.9994 - val_loss: 0.2455 - val_accuracy: 0.9466\n",
            "Epoch 50/50\n",
            "157/157 [==============================] - 1s 5ms/step - loss: 0.0051 - accuracy: 0.9984 - val_loss: 0.2821 - val_accuracy: 0.9398\n"
          ]
        },
        {
          "output_type": "display_data",
          "data": {
            "image/png": "[encoded data removed]",
            "text/plain": [
              "<Figure size 432x288 with 1 Axes>"
            ]
          },
          "metadata": {
            "needs_background": "light"
          }
        }
      ]
    }
  ]
}